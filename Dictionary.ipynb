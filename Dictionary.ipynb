{
 "cells": [
  {
   "cell_type": "code",
   "execution_count": 27,
   "metadata": {},
   "outputs": [
    {
     "name": "stdout",
     "output_type": "stream",
     "text": [
      "Enter the word for meaning: hello\n",
      "Expression of greeting used by two or more people who meet each other.\n"
     ]
    }
   ],
   "source": [
    "# importing different libraries\n",
    "import json\n",
    "from difflib import get_close_matches\n",
    "\n",
    "#importing the json file\n",
    "data = json.load(open(\"data.json\")) \n",
    "\n",
    "#op function\n",
    "def op(word):\n",
    "    word = word.lower()                     #converting the word into lower case\n",
    "    if word in data:                       \n",
    "        return data[word]\n",
    "    elif word.title() in data:              # if the firsrt character of word is capital\n",
    "        return data[word.title()]\n",
    "    elif word.upper() in data:              #all letters in upper case\n",
    "        return data[word.upper()]                    \n",
    "    elif len(get_close_matches(word, data.keys()))>0:             #for close matches \n",
    "        print(\"Did you mean %s instead? \"%get_close_matches(word, data.keys())[0])\n",
    "        c = input(\"Press y if yes or n for no. \")\n",
    "        if c== 'y':\n",
    "            return data[get_close_matches(word, data.keys())[0]]\n",
    "        else:\n",
    "            return \"Sorry,The word doesn't exist in my database.\"\n",
    "    else:\n",
    "        return \"Sorry,The word doesn't exist in my database.\"\n",
    "\n",
    "#Main function \n",
    "\n",
    "word = input(\"Enter the word for meaning: \") #input the string to find\n",
    "output = op(word)\n",
    "if type(output) == list:                     # For words having many words, then to showcase in different lines\n",
    "    for item in output:\n",
    "        print(item)\n",
    "else:\n",
    "    print(output)"
   ]
  },
  {
   "cell_type": "code",
   "execution_count": null,
   "metadata": {},
   "outputs": [],
   "source": []
  }
 ],
 "metadata": {
  "kernelspec": {
   "display_name": "Python 3",
   "language": "python",
   "name": "python3"
  },
  "language_info": {
   "codemirror_mode": {
    "name": "ipython",
    "version": 3
   },
   "file_extension": ".py",
   "mimetype": "text/x-python",
   "name": "python",
   "nbconvert_exporter": "python",
   "pygments_lexer": "ipython3",
   "version": "3.7.6"
  }
 },
 "nbformat": 4,
 "nbformat_minor": 4
}
